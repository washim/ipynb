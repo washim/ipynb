{
 "cells": [
  {
   "cell_type": "markdown",
   "metadata": {},
   "source": [
    "### Business Case: The Marketing manager wants to understand the data better. She wishes to explore if this data shows some trends about what type of people buy personal loans."
   ]
  },
  {
   "cell_type": "code",
   "execution_count": 5,
   "metadata": {
    "collapsed": true
   },
   "outputs": [],
   "source": [
    ".libPaths(\"/home/rstudio/R/x86_64-pc-linux-gnu-library/3.4\")"
   ]
  },
  {
   "cell_type": "code",
   "execution_count": 36,
   "metadata": {},
   "outputs": [],
   "source": [
    "library(VIM)\n",
    "library(caret)\n",
    "library(pROC)"
   ]
  },
  {
   "cell_type": "code",
   "execution_count": 7,
   "metadata": {
    "collapsed": true
   },
   "outputs": [],
   "source": [
    "bank.data <- read.csv(\"bank-data.csv\", header = TRUE, stringsAsFactors = FALSE)"
   ]
  },
  {
   "cell_type": "code",
   "execution_count": 8,
   "metadata": {},
   "outputs": [
    {
     "data": {
      "text/html": [
       "<table>\n",
       "<thead><tr><th scope=col>id</th><th scope=col>age</th><th scope=col>sex</th><th scope=col>region</th><th scope=col>income</th><th scope=col>married</th><th scope=col>children</th><th scope=col>car</th><th scope=col>save_act</th><th scope=col>current_act</th><th scope=col>mortgage</th><th scope=col>pl</th></tr></thead>\n",
       "<tbody>\n",
       "\t<tr><td>ID12101   </td><td>48        </td><td>FEMALE    </td><td>INNER_CITY</td><td>17546.0   </td><td>NO        </td><td>1         </td><td>NO        </td><td>NO        </td><td>NO        </td><td>NO        </td><td>YES       </td></tr>\n",
       "\t<tr><td>ID12102   </td><td>40        </td><td>MALE      </td><td>TOWN      </td><td>30085.1   </td><td>YES       </td><td>3         </td><td>YES       </td><td>NO        </td><td>YES       </td><td>YES       </td><td>NO        </td></tr>\n",
       "\t<tr><td>ID12103   </td><td>51        </td><td>FEMALE    </td><td>INNER_CITY</td><td>16575.4   </td><td>YES       </td><td>0         </td><td>YES       </td><td>YES       </td><td>YES       </td><td>NO        </td><td>NO        </td></tr>\n",
       "\t<tr><td>ID12104   </td><td>23        </td><td>FEMALE    </td><td>TOWN      </td><td>20375.4   </td><td>YES       </td><td>3         </td><td>NO        </td><td>NO        </td><td>YES       </td><td>NO        </td><td>NO        </td></tr>\n",
       "\t<tr><td>ID12105   </td><td>57        </td><td>FEMALE    </td><td>RURAL     </td><td>50576.3   </td><td>YES       </td><td>0         </td><td>NO        </td><td>YES       </td><td>NO        </td><td>NO        </td><td>NO        </td></tr>\n",
       "\t<tr><td>ID12106   </td><td>57        </td><td>FEMALE    </td><td>TOWN      </td><td>37869.6   </td><td>YES       </td><td>2         </td><td>NO        </td><td>YES       </td><td>YES       </td><td>NO        </td><td>YES       </td></tr>\n",
       "</tbody>\n",
       "</table>\n"
      ],
      "text/latex": [
       "\\begin{tabular}{r|llllllllllll}\n",
       " id & age & sex & region & income & married & children & car & save\\_act & current\\_act & mortgage & pl\\\\\n",
       "\\hline\n",
       "\t ID12101      & 48           & FEMALE       & INNER\\_CITY & 17546.0      & NO           & 1            & NO           & NO           & NO           & NO           & YES         \\\\\n",
       "\t ID12102    & 40         & MALE       & TOWN       & 30085.1    & YES        & 3          & YES        & NO         & YES        & YES        & NO        \\\\\n",
       "\t ID12103      & 51           & FEMALE       & INNER\\_CITY & 16575.4      & YES          & 0            & YES          & YES          & YES          & NO           & NO          \\\\\n",
       "\t ID12104    & 23         & FEMALE     & TOWN       & 20375.4    & YES        & 3          & NO         & NO         & YES        & NO         & NO        \\\\\n",
       "\t ID12105    & 57         & FEMALE     & RURAL      & 50576.3    & YES        & 0          & NO         & YES        & NO         & NO         & NO        \\\\\n",
       "\t ID12106    & 57         & FEMALE     & TOWN       & 37869.6    & YES        & 2          & NO         & YES        & YES        & NO         & YES       \\\\\n",
       "\\end{tabular}\n"
      ],
      "text/markdown": [
       "\n",
       "id | age | sex | region | income | married | children | car | save_act | current_act | mortgage | pl | \n",
       "|---|---|---|---|---|---|\n",
       "| ID12101    | 48         | FEMALE     | INNER_CITY | 17546.0    | NO         | 1          | NO         | NO         | NO         | NO         | YES        | \n",
       "| ID12102    | 40         | MALE       | TOWN       | 30085.1    | YES        | 3          | YES        | NO         | YES        | YES        | NO         | \n",
       "| ID12103    | 51         | FEMALE     | INNER_CITY | 16575.4    | YES        | 0          | YES        | YES        | YES        | NO         | NO         | \n",
       "| ID12104    | 23         | FEMALE     | TOWN       | 20375.4    | YES        | 3          | NO         | NO         | YES        | NO         | NO         | \n",
       "| ID12105    | 57         | FEMALE     | RURAL      | 50576.3    | YES        | 0          | NO         | YES        | NO         | NO         | NO         | \n",
       "| ID12106    | 57         | FEMALE     | TOWN       | 37869.6    | YES        | 2          | NO         | YES        | YES        | NO         | YES        | \n",
       "\n",
       "\n"
      ],
      "text/plain": [
       "  id      age sex    region     income  married children car save_act\n",
       "1 ID12101 48  FEMALE INNER_CITY 17546.0 NO      1        NO  NO      \n",
       "2 ID12102 40  MALE   TOWN       30085.1 YES     3        YES NO      \n",
       "3 ID12103 51  FEMALE INNER_CITY 16575.4 YES     0        YES YES     \n",
       "4 ID12104 23  FEMALE TOWN       20375.4 YES     3        NO  NO      \n",
       "5 ID12105 57  FEMALE RURAL      50576.3 YES     0        NO  YES     \n",
       "6 ID12106 57  FEMALE TOWN       37869.6 YES     2        NO  YES     \n",
       "  current_act mortgage pl \n",
       "1 NO          NO       YES\n",
       "2 YES         YES      NO \n",
       "3 YES         NO       NO \n",
       "4 YES         NO       NO \n",
       "5 NO          NO       NO \n",
       "6 YES         NO       YES"
      ]
     },
     "metadata": {},
     "output_type": "display_data"
    }
   ],
   "source": [
    "head(bank.data)"
   ]
  },
  {
   "cell_type": "code",
   "execution_count": 9,
   "metadata": {},
   "outputs": [
    {
     "data": {
      "text/html": [
       "<table>\n",
       "<thead><tr><th></th><th scope=col>id</th><th scope=col>age</th><th scope=col>sex</th><th scope=col>region</th><th scope=col>income</th><th scope=col>married</th><th scope=col>children</th><th scope=col>car</th><th scope=col>save_act</th><th scope=col>current_act</th><th scope=col>mortgage</th><th scope=col>pl</th></tr></thead>\n",
       "<tbody>\n",
       "\t<tr><th scope=row>595</th><td>ID12695   </td><td>59        </td><td>FEMALE    </td><td>RURAL     </td><td>30971.80  </td><td>YES       </td><td>3         </td><td>YES       </td><td>YES       </td><td>YES       </td><td>YES       </td><td>NO        </td></tr>\n",
       "\t<tr><th scope=row>596</th><td>ID12696   </td><td>61        </td><td>FEMALE    </td><td>INNER_CITY</td><td>47025.00  </td><td>NO        </td><td>2         </td><td>YES       </td><td>YES       </td><td>YES       </td><td>YES       </td><td>NO        </td></tr>\n",
       "\t<tr><th scope=row>597</th><td>ID12697   </td><td>30        </td><td>FEMALE    </td><td>INNER_CITY</td><td> 9672.25  </td><td>YES       </td><td>0         </td><td>YES       </td><td>YES       </td><td>YES       </td><td>NO        </td><td>NO        </td></tr>\n",
       "\t<tr><th scope=row>598</th><td>ID12698   </td><td>31        </td><td>FEMALE    </td><td>TOWN      </td><td>15976.30  </td><td>YES       </td><td>0         </td><td>YES       </td><td>YES       </td><td>NO        </td><td>NO        </td><td>YES       </td></tr>\n",
       "\t<tr><th scope=row>599</th><td>ID12699   </td><td>29        </td><td>MALE      </td><td>INNER_CITY</td><td>14711.80  </td><td>YES       </td><td>0         </td><td>NO        </td><td>YES       </td><td>NO        </td><td>YES       </td><td>NO        </td></tr>\n",
       "\t<tr><th scope=row>600</th><td>ID12700   </td><td>38        </td><td>MALE      </td><td>TOWN      </td><td>26671.60  </td><td>NO        </td><td>0         </td><td>YES       </td><td>NO        </td><td>YES       </td><td>YES       </td><td>YES       </td></tr>\n",
       "</tbody>\n",
       "</table>\n"
      ],
      "text/latex": [
       "\\begin{tabular}{r|llllllllllll}\n",
       "  & id & age & sex & region & income & married & children & car & save\\_act & current\\_act & mortgage & pl\\\\\n",
       "\\hline\n",
       "\t595 & ID12695    & 59         & FEMALE     & RURAL      & 30971.80   & YES        & 3          & YES        & YES        & YES        & YES        & NO        \\\\\n",
       "\t596 & ID12696      & 61           & FEMALE       & INNER\\_CITY & 47025.00     & NO           & 2            & YES          & YES          & YES          & YES          & NO          \\\\\n",
       "\t597 & ID12697      & 30           & FEMALE       & INNER\\_CITY &  9672.25     & YES          & 0            & YES          & YES          & YES          & NO           & NO          \\\\\n",
       "\t598 & ID12698    & 31         & FEMALE     & TOWN       & 15976.30   & YES        & 0          & YES        & YES        & NO         & NO         & YES       \\\\\n",
       "\t599 & ID12699      & 29           & MALE         & INNER\\_CITY & 14711.80     & YES          & 0            & NO           & YES          & NO           & YES          & NO          \\\\\n",
       "\t600 & ID12700    & 38         & MALE       & TOWN       & 26671.60   & NO         & 0          & YES        & NO         & YES        & YES        & YES       \\\\\n",
       "\\end{tabular}\n"
      ],
      "text/markdown": [
       "\n",
       "| <!--/--> | id | age | sex | region | income | married | children | car | save_act | current_act | mortgage | pl | \n",
       "|---|---|---|---|---|---|\n",
       "| 595 | ID12695    | 59         | FEMALE     | RURAL      | 30971.80   | YES        | 3          | YES        | YES        | YES        | YES        | NO         | \n",
       "| 596 | ID12696    | 61         | FEMALE     | INNER_CITY | 47025.00   | NO         | 2          | YES        | YES        | YES        | YES        | NO         | \n",
       "| 597 | ID12697    | 30         | FEMALE     | INNER_CITY |  9672.25   | YES        | 0          | YES        | YES        | YES        | NO         | NO         | \n",
       "| 598 | ID12698    | 31         | FEMALE     | TOWN       | 15976.30   | YES        | 0          | YES        | YES        | NO         | NO         | YES        | \n",
       "| 599 | ID12699    | 29         | MALE       | INNER_CITY | 14711.80   | YES        | 0          | NO         | YES        | NO         | YES        | NO         | \n",
       "| 600 | ID12700    | 38         | MALE       | TOWN       | 26671.60   | NO         | 0          | YES        | NO         | YES        | YES        | YES        | \n",
       "\n",
       "\n"
      ],
      "text/plain": [
       "    id      age sex    region     income   married children car save_act\n",
       "595 ID12695 59  FEMALE RURAL      30971.80 YES     3        YES YES     \n",
       "596 ID12696 61  FEMALE INNER_CITY 47025.00 NO      2        YES YES     \n",
       "597 ID12697 30  FEMALE INNER_CITY  9672.25 YES     0        YES YES     \n",
       "598 ID12698 31  FEMALE TOWN       15976.30 YES     0        YES YES     \n",
       "599 ID12699 29  MALE   INNER_CITY 14711.80 YES     0        NO  YES     \n",
       "600 ID12700 38  MALE   TOWN       26671.60 NO      0        YES NO      \n",
       "    current_act mortgage pl \n",
       "595 YES         YES      NO \n",
       "596 YES         YES      NO \n",
       "597 YES         NO       NO \n",
       "598 NO          NO       YES\n",
       "599 NO          YES      NO \n",
       "600 YES         YES      YES"
      ]
     },
     "metadata": {},
     "output_type": "display_data"
    }
   ],
   "source": [
    "tail(bank.data)"
   ]
  },
  {
   "cell_type": "code",
   "execution_count": 10,
   "metadata": {},
   "outputs": [
    {
     "name": "stdout",
     "output_type": "stream",
     "text": [
      "'data.frame':\t600 obs. of  12 variables:\n",
      " $ id         : chr  \"ID12101\" \"ID12102\" \"ID12103\" \"ID12104\" ...\n",
      " $ age        : int  48 40 51 23 57 57 22 58 37 54 ...\n",
      " $ sex        : chr  \"FEMALE\" \"MALE\" \"FEMALE\" \"FEMALE\" ...\n",
      " $ region     : chr  \"INNER_CITY\" \"TOWN\" \"INNER_CITY\" \"TOWN\" ...\n",
      " $ income     : num  17546 30085 16575 20375 50576 ...\n",
      " $ married    : chr  \"NO\" \"YES\" \"YES\" \"YES\" ...\n",
      " $ children   : int  1 3 0 3 0 2 0 0 2 2 ...\n",
      " $ car        : chr  \"NO\" \"YES\" \"YES\" \"NO\" ...\n",
      " $ save_act   : chr  \"NO\" \"NO\" \"YES\" \"NO\" ...\n",
      " $ current_act: chr  \"NO\" \"YES\" \"YES\" \"YES\" ...\n",
      " $ mortgage   : chr  \"NO\" \"YES\" \"NO\" \"NO\" ...\n",
      " $ pl         : chr  \"YES\" \"NO\" \"NO\" \"NO\" ...\n"
     ]
    }
   ],
   "source": [
    "str(bank.data)"
   ]
  },
  {
   "cell_type": "code",
   "execution_count": 11,
   "metadata": {},
   "outputs": [
    {
     "data": {
      "text/html": [
       "<dl class=dl-horizontal>\n",
       "\t<dt>id</dt>\n",
       "\t\t<dd>'character'</dd>\n",
       "\t<dt>age</dt>\n",
       "\t\t<dd>'integer'</dd>\n",
       "\t<dt>sex</dt>\n",
       "\t\t<dd>'character'</dd>\n",
       "\t<dt>region</dt>\n",
       "\t\t<dd>'character'</dd>\n",
       "\t<dt>income</dt>\n",
       "\t\t<dd>'numeric'</dd>\n",
       "\t<dt>married</dt>\n",
       "\t\t<dd>'character'</dd>\n",
       "\t<dt>children</dt>\n",
       "\t\t<dd>'integer'</dd>\n",
       "\t<dt>car</dt>\n",
       "\t\t<dd>'character'</dd>\n",
       "\t<dt>save_act</dt>\n",
       "\t\t<dd>'character'</dd>\n",
       "\t<dt>current_act</dt>\n",
       "\t\t<dd>'character'</dd>\n",
       "\t<dt>mortgage</dt>\n",
       "\t\t<dd>'character'</dd>\n",
       "\t<dt>pl</dt>\n",
       "\t\t<dd>'character'</dd>\n",
       "</dl>\n"
      ],
      "text/latex": [
       "\\begin{description*}\n",
       "\\item[id] 'character'\n",
       "\\item[age] 'integer'\n",
       "\\item[sex] 'character'\n",
       "\\item[region] 'character'\n",
       "\\item[income] 'numeric'\n",
       "\\item[married] 'character'\n",
       "\\item[children] 'integer'\n",
       "\\item[car] 'character'\n",
       "\\item[save\\textbackslash{}\\_act] 'character'\n",
       "\\item[current\\textbackslash{}\\_act] 'character'\n",
       "\\item[mortgage] 'character'\n",
       "\\item[pl] 'character'\n",
       "\\end{description*}\n"
      ],
      "text/markdown": [
       "id\n",
       ":   'character'age\n",
       ":   'integer'sex\n",
       ":   'character'region\n",
       ":   'character'income\n",
       ":   'numeric'married\n",
       ":   'character'children\n",
       ":   'integer'car\n",
       ":   'character'save_act\n",
       ":   'character'current_act\n",
       ":   'character'mortgage\n",
       ":   'character'pl\n",
       ":   'character'\n",
       "\n"
      ],
      "text/plain": [
       "         id         age         sex      region      income     married \n",
       "\"character\"   \"integer\" \"character\" \"character\"   \"numeric\" \"character\" \n",
       "   children         car    save_act current_act    mortgage          pl \n",
       "  \"integer\" \"character\" \"character\" \"character\" \"character\" \"character\" "
      ]
     },
     "metadata": {},
     "output_type": "display_data"
    }
   ],
   "source": [
    "sapply(bank.data, class)"
   ]
  },
  {
   "cell_type": "code",
   "execution_count": 12,
   "metadata": {},
   "outputs": [
    {
     "data": {
      "text/plain": [
       "      id                 age            sex               region         \n",
       " Length:600         Min.   :18.00   Length:600         Length:600        \n",
       " Class :character   1st Qu.:30.00   Class :character   Class :character  \n",
       " Mode  :character   Median :42.00   Mode  :character   Mode  :character  \n",
       "                    Mean   :42.40                                        \n",
       "                    3rd Qu.:55.25                                        \n",
       "                    Max.   :67.00                                        \n",
       "     income        married             children         car           \n",
       " Min.   : 5014   Length:600         Min.   :0.000   Length:600        \n",
       " 1st Qu.:17264   Class :character   1st Qu.:0.000   Class :character  \n",
       " Median :24925   Mode  :character   Median :1.000   Mode  :character  \n",
       " Mean   :27524                      Mean   :1.012                     \n",
       " 3rd Qu.:36173                      3rd Qu.:2.000                     \n",
       " Max.   :63130                      Max.   :3.000                     \n",
       "   save_act         current_act          mortgage              pl           \n",
       " Length:600         Length:600         Length:600         Length:600        \n",
       " Class :character   Class :character   Class :character   Class :character  \n",
       " Mode  :character   Mode  :character   Mode  :character   Mode  :character  \n",
       "                                                                            \n",
       "                                                                            \n",
       "                                                                            "
      ]
     },
     "metadata": {},
     "output_type": "display_data"
    }
   ],
   "source": [
    "summary(bank.data)"
   ]
  },
  {
   "cell_type": "code",
   "execution_count": 13,
   "metadata": {},
   "outputs": [
    {
     "data": {
      "text/html": [
       "0"
      ],
      "text/latex": [
       "0"
      ],
      "text/markdown": [
       "0"
      ],
      "text/plain": [
       "[1] 0"
      ]
     },
     "metadata": {},
     "output_type": "display_data"
    }
   ],
   "source": [
    "nrow(bank.data[!complete.cases(bank.data),])"
   ]
  },
  {
   "cell_type": "code",
   "execution_count": 14,
   "metadata": {},
   "outputs": [
    {
     "data": {
      "text/html": [
       "<table>\n",
       "<thead><tr><th scope=col>id</th><th scope=col>age</th><th scope=col>sex</th><th scope=col>region</th><th scope=col>income</th><th scope=col>married</th><th scope=col>children</th><th scope=col>car</th><th scope=col>save_act</th><th scope=col>current_act</th><th scope=col>mortgage</th><th scope=col>pl</th></tr></thead>\n",
       "<tbody>\n",
       "</tbody>\n",
       "</table>\n"
      ],
      "text/latex": [
       "\\begin{tabular}{r|llllllllllll}\n",
       " id & age & sex & region & income & married & children & car & save\\_act & current\\_act & mortgage & pl\\\\\n",
       "\\hline\n",
       "\\end{tabular}\n"
      ],
      "text/markdown": [
       "\n",
       "id | age | sex | region | income | married | children | car | save_act | current_act | mortgage | pl | \n",
       "||\n",
       "\n",
       "\n"
      ],
      "text/plain": [
       "     id age sex region income married children car save_act current_act\n",
       "     mortgage pl"
      ]
     },
     "metadata": {},
     "output_type": "display_data"
    }
   ],
   "source": [
    "bank.data[!complete.cases(bank.data),]"
   ]
  },
  {
   "cell_type": "markdown",
   "metadata": {},
   "source": [
    "### Missing data"
   ]
  },
  {
   "cell_type": "code",
   "execution_count": 15,
   "metadata": {},
   "outputs": [
    {
     "name": "stdout",
     "output_type": "stream",
     "text": [
      "\n",
      " Variables sorted by number of missings: \n",
      "    Variable Count\n",
      "          id     0\n",
      "         age     0\n",
      "         sex     0\n",
      "      region     0\n",
      "      income     0\n",
      "     married     0\n",
      "    children     0\n",
      "         car     0\n",
      "    save_act     0\n",
      " current_act     0\n",
      "    mortgage     0\n",
      "          pl     0\n"
     ]
    },
    {
     "data": {
      "image/png": "[encoded data removed]",
      "text/plain": [
       "plot without title"
      ]
     },
     "metadata": {},
     "output_type": "display_data"
    }
   ],
   "source": [
    "miss <- aggr(bank.data, prop = FALSE, col = c('light green', 'salmon'),\n",
    "    numbers = TRUE, sortVars = TRUE,\n",
    "    labels=names(bank.data), cex.axis = .3,\n",
    "    gap = 3, ylab = c(\"Missing Data\", \"Pattern\")\n",
    ")"
   ]
  },
  {
   "cell_type": "markdown",
   "metadata": {},
   "source": [
    "### outlier"
   ]
  },
  {
   "cell_type": "code",
   "execution_count": 16,
   "metadata": {},
   "outputs": [
    {
     "data": {
      "image/png": "[encoded data removed]",
      "text/plain": [
       "plot without title"
      ]
     },
     "metadata": {},
     "output_type": "display_data"
    }
   ],
   "source": [
    "boxplot((bank.data$income))"
   ]
  },
  {
   "cell_type": "code",
   "execution_count": 17,
   "metadata": {},
   "outputs": [
    {
     "data": {
      "text/plain": [
       "   Min. 1st Qu.  Median    Mean 3rd Qu.    Max. \n",
       "   5014   17264   24925   27524   36173   63130 "
      ]
     },
     "metadata": {},
     "output_type": "display_data"
    }
   ],
   "source": [
    "summary(bank.data$income)"
   ]
  },
  {
   "cell_type": "code",
   "execution_count": 18,
   "metadata": {},
   "outputs": [
    {
     "data": {
      "image/png": "[encoded data removed]",
      "text/plain": [
       "plot without title"
      ]
     },
     "metadata": {},
     "output_type": "display_data"
    }
   ],
   "source": [
    "boxplot((bank.data$age))"
   ]
  },
  {
   "cell_type": "code",
   "execution_count": 19,
   "metadata": {},
   "outputs": [
    {
     "data": {
      "text/plain": [
       "   Min. 1st Qu.  Median    Mean 3rd Qu.    Max. \n",
       "  18.00   30.00   42.00   42.40   55.25   67.00 "
      ]
     },
     "metadata": {},
     "output_type": "display_data"
    }
   ],
   "source": [
    "summary(bank.data$age)"
   ]
  },
  {
   "cell_type": "code",
   "execution_count": 20,
   "metadata": {
    "collapsed": true
   },
   "outputs": [],
   "source": [
    "bank.data$id <- NULL\n",
    "bank.data$age <- as.numeric(bank.data$age) \n",
    "bank.data$income <- as.numeric(bank.data$income)"
   ]
  },
  {
   "cell_type": "code",
   "execution_count": 21,
   "metadata": {
    "collapsed": true
   },
   "outputs": [],
   "source": [
    "check.dummy <- dummyVars(~.,bank.data[\"region\"]) \n",
    "region.Dummy <- predict(check.dummy,bank.data[\"region\"])\n",
    "df.region.Dummy <- as.data.frame(region.Dummy) \n",
    "bank.data <- bank.data[setdiff(names(bank.data), c(\"region\"))]\n",
    "bank.data[bank.data == \"NO\"] <- 0\n",
    "bank.data[bank.data == 'YES'] <- 1\n",
    "bank.data[bank.data == \"FEMALE\"] <- 0\n",
    "bank.data[bank.data == \"MALE\"] <- 1\n",
    "bank.data <- cbind(bank.data, df.region.Dummy)\n",
    "bank.data <- bank.data[, c(1:9,11:14,10)]\n",
    "att <- setdiff(names(bank.data), c(\"age\", \"income\")) \n",
    "for(c in att){ \n",
    "    bank.data[[c]] <- as.factor(bank.data[[c]]) \n",
    "}"
   ]
  },
  {
   "cell_type": "code",
   "execution_count": 22,
   "metadata": {},
   "outputs": [
    {
     "name": "stdout",
     "output_type": "stream",
     "text": [
      "'data.frame':\t600 obs. of  14 variables:\n",
      " $ age             : num  48 40 51 23 57 57 22 58 37 54 ...\n",
      " $ sex             : Factor w/ 2 levels \"0\",\"1\": 1 2 1 1 1 1 2 2 1 2 ...\n",
      " $ income          : num  17546 30085 16575 20375 50576 ...\n",
      " $ married         : Factor w/ 2 levels \"0\",\"1\": 1 2 2 2 2 2 1 2 2 2 ...\n",
      " $ children        : Factor w/ 4 levels \"0\",\"1\",\"2\",\"3\": 2 4 1 4 1 3 1 1 3 3 ...\n",
      " $ car             : Factor w/ 2 levels \"0\",\"1\": 1 2 2 1 1 1 1 2 2 2 ...\n",
      " $ save_act        : Factor w/ 2 levels \"0\",\"1\": 1 1 2 1 2 2 1 2 1 2 ...\n",
      " $ current_act     : Factor w/ 2 levels \"0\",\"1\": 1 2 2 2 1 2 2 2 1 2 ...\n",
      " $ mortgage        : Factor w/ 2 levels \"0\",\"1\": 1 2 1 1 1 1 1 1 1 1 ...\n",
      " $ regionINNER_CITY: Factor w/ 2 levels \"0\",\"1\": 2 1 2 1 1 1 1 1 1 1 ...\n",
      " $ regionRURAL     : Factor w/ 2 levels \"0\",\"1\": 1 1 1 1 2 1 2 1 1 1 ...\n",
      " $ regionSUBURBAN  : Factor w/ 2 levels \"0\",\"1\": 1 1 1 1 1 1 1 1 2 1 ...\n",
      " $ regionTOWN      : Factor w/ 2 levels \"0\",\"1\": 1 2 1 2 1 2 1 2 1 2 ...\n",
      " $ pl              : Factor w/ 2 levels \"0\",\"1\": 2 1 1 1 1 2 2 1 1 1 ...\n"
     ]
    }
   ],
   "source": [
    "str(bank.data)"
   ]
  },
  {
   "cell_type": "code",
   "execution_count": 23,
   "metadata": {
    "collapsed": true
   },
   "outputs": [],
   "source": [
    "smp_size <- floor(0.75 * nrow(bank.data)) \n",
    "set.seed(123) \n",
    "index <- sample(seq_len(nrow(bank.data)), size = smp_size) \n",
    "bank.data.train <- bank.data[index, ] \n",
    "bank.data.test <- bank.data[-index,] "
   ]
  },
  {
   "cell_type": "code",
   "execution_count": 24,
   "metadata": {},
   "outputs": [
    {
     "data": {
      "text/html": [
       "<ol class=list-inline>\n",
       "\t<li>450</li>\n",
       "\t<li>14</li>\n",
       "</ol>\n"
      ],
      "text/latex": [
       "\\begin{enumerate*}\n",
       "\\item 450\n",
       "\\item 14\n",
       "\\end{enumerate*}\n"
      ],
      "text/markdown": [
       "1. 450\n",
       "2. 14\n",
       "\n",
       "\n"
      ],
      "text/plain": [
       "[1] 450  14"
      ]
     },
     "metadata": {},
     "output_type": "display_data"
    }
   ],
   "source": [
    "dim(bank.data.train)"
   ]
  },
  {
   "cell_type": "code",
   "execution_count": 25,
   "metadata": {},
   "outputs": [
    {
     "data": {
      "text/html": [
       "<ol class=list-inline>\n",
       "\t<li>150</li>\n",
       "\t<li>14</li>\n",
       "</ol>\n"
      ],
      "text/latex": [
       "\\begin{enumerate*}\n",
       "\\item 150\n",
       "\\item 14\n",
       "\\end{enumerate*}\n"
      ],
      "text/markdown": [
       "1. 150\n",
       "2. 14\n",
       "\n",
       "\n"
      ],
      "text/plain": [
       "[1] 150  14"
      ]
     },
     "metadata": {},
     "output_type": "display_data"
    }
   ],
   "source": [
    "dim(bank.data.test)"
   ]
  },
  {
   "cell_type": "code",
   "execution_count": 26,
   "metadata": {},
   "outputs": [
    {
     "data": {
      "text/plain": [
       "\n",
       "Call:\n",
       "glm(formula = bank.data.train$pl ~ ., family = \"binomial\", data = bank.data.train)\n",
       "\n",
       "Deviance Residuals: \n",
       "    Min       1Q   Median       3Q      Max  \n",
       "-2.5517  -0.8695  -0.3748   0.8877   2.2451  \n",
       "\n",
       "Coefficients: (1 not defined because of singularities)\n",
       "                    Estimate Std. Error z value Pr(>|z|)    \n",
       "(Intercept)       -7.658e-01  5.381e-01  -1.423 0.154641    \n",
       "age               -9.451e-04  1.217e-02  -0.078 0.938090    \n",
       "sex1               3.935e-01  2.290e-01   1.718 0.085785 .  \n",
       "income             5.208e-05  1.396e-05   3.731 0.000191 ***\n",
       "married1          -9.420e-01  2.436e-01  -3.867 0.000110 ***\n",
       "children1          2.351e+00  3.340e-01   7.039 1.93e-12 ***\n",
       "children2          4.270e-02  2.721e-01   0.157 0.875293    \n",
       "children3         -1.493e+00  4.535e-01  -3.292 0.000995 ***\n",
       "car1              -3.842e-03  2.253e-01  -0.017 0.986397    \n",
       "save_act1         -1.015e+00  2.626e-01  -3.866 0.000111 ***\n",
       "current_act1      -2.445e-01  2.689e-01  -0.909 0.363119    \n",
       "mortgage1         -2.433e-01  2.389e-01  -1.018 0.308570    \n",
       "regionINNER_CITY1  2.459e-01  2.769e-01   0.888 0.374436    \n",
       "regionRURAL1       3.138e-01  3.593e-01   0.873 0.382553    \n",
       "regionSUBURBAN1    1.222e+00  4.206e-01   2.906 0.003656 ** \n",
       "regionTOWN1               NA         NA      NA       NA    \n",
       "---\n",
       "Signif. codes:  0 ‘***’ 0.001 ‘**’ 0.01 ‘*’ 0.05 ‘.’ 0.1 ‘ ’ 1\n",
       "\n",
       "(Dispersion parameter for binomial family taken to be 1)\n",
       "\n",
       "    Null deviance: 622.76  on 449  degrees of freedom\n",
       "Residual deviance: 478.72  on 435  degrees of freedom\n",
       "AIC: 508.72\n",
       "\n",
       "Number of Fisher Scoring iterations: 4\n"
      ]
     },
     "metadata": {},
     "output_type": "display_data"
    }
   ],
   "source": [
    "mylogit <- glm(bank.data.train$pl ~., data = bank.data.train, family = \"binomial\")\n",
    "summary(mylogit)"
   ]
  },
  {
   "cell_type": "code",
   "execution_count": 27,
   "metadata": {},
   "outputs": [
    {
     "data": {
      "text/html": [
       "<table>\n",
       "<thead><tr><th></th><th scope=col>Df</th><th scope=col>Deviance</th><th scope=col>Resid. Df</th><th scope=col>Resid. Dev</th><th scope=col>Pr(&gt;Chi)</th></tr></thead>\n",
       "<tbody>\n",
       "\t<tr><th scope=row>NULL</th><td>NA          </td><td>          NA</td><td>449         </td><td>622.7565    </td><td>          NA</td></tr>\n",
       "\t<tr><th scope=row>age</th><td> 1          </td><td>10.336896777</td><td>448         </td><td>612.4196    </td><td>1.303971e-03</td></tr>\n",
       "\t<tr><th scope=row>sex</th><td> 1          </td><td> 4.890717460</td><td>447         </td><td>607.5289    </td><td>2.700146e-02</td></tr>\n",
       "\t<tr><th scope=row>income</th><td> 1          </td><td> 5.905260851</td><td>446         </td><td>601.6236    </td><td>1.509573e-02</td></tr>\n",
       "\t<tr><th scope=row>married</th><td> 1          </td><td>12.770339935</td><td>445         </td><td>588.8533    </td><td>3.521588e-04</td></tr>\n",
       "\t<tr><th scope=row>children</th><td> 3          </td><td>85.049562485</td><td>442         </td><td>503.8037    </td><td>2.532314e-18</td></tr>\n",
       "\t<tr><th scope=row>car</th><td> 1          </td><td> 0.184425639</td><td>441         </td><td>503.6193    </td><td>6.675972e-01</td></tr>\n",
       "\t<tr><th scope=row>save_act</th><td> 1          </td><td>14.689721038</td><td>440         </td><td>488.9296    </td><td>1.267356e-04</td></tr>\n",
       "\t<tr><th scope=row>current_act</th><td> 1          </td><td> 0.389215183</td><td>439         </td><td>488.5403    </td><td>5.327122e-01</td></tr>\n",
       "\t<tr><th scope=row>mortgage</th><td> 1          </td><td> 0.942163773</td><td>438         </td><td>487.5982    </td><td>3.317220e-01</td></tr>\n",
       "\t<tr><th scope=row>regionINNER_CITY</th><td> 1          </td><td> 0.162870229</td><td>437         </td><td>487.4353    </td><td>6.865276e-01</td></tr>\n",
       "\t<tr><th scope=row>regionRURAL</th><td> 1          </td><td> 0.006097857</td><td>436         </td><td>487.4292    </td><td>9.377574e-01</td></tr>\n",
       "\t<tr><th scope=row>regionSUBURBAN</th><td> 1          </td><td> 8.711619121</td><td>435         </td><td>478.7176    </td><td>3.161883e-03</td></tr>\n",
       "\t<tr><th scope=row>regionTOWN</th><td> 0          </td><td> 0.000000000</td><td>435         </td><td>478.7176    </td><td>          NA</td></tr>\n",
       "</tbody>\n",
       "</table>\n"
      ],
      "text/latex": [
       "\\begin{tabular}{r|lllll}\n",
       "  & Df & Deviance & Resid. Df & Resid. Dev & Pr(>Chi)\\\\\n",
       "\\hline\n",
       "\tNULL & NA           &           NA & 449          & 622.7565     &           NA\\\\\n",
       "\tage &  1           & 10.336896777 & 448          & 612.4196     & 1.303971e-03\\\\\n",
       "\tsex &  1           &  4.890717460 & 447          & 607.5289     & 2.700146e-02\\\\\n",
       "\tincome &  1           &  5.905260851 & 446          & 601.6236     & 1.509573e-02\\\\\n",
       "\tmarried &  1           & 12.770339935 & 445          & 588.8533     & 3.521588e-04\\\\\n",
       "\tchildren &  3           & 85.049562485 & 442          & 503.8037     & 2.532314e-18\\\\\n",
       "\tcar &  1           &  0.184425639 & 441          & 503.6193     & 6.675972e-01\\\\\n",
       "\tsave\\_act &  1           & 14.689721038 & 440          & 488.9296     & 1.267356e-04\\\\\n",
       "\tcurrent\\_act &  1           &  0.389215183 & 439          & 488.5403     & 5.327122e-01\\\\\n",
       "\tmortgage &  1           &  0.942163773 & 438          & 487.5982     & 3.317220e-01\\\\\n",
       "\tregionINNER\\_CITY &  1           &  0.162870229 & 437          & 487.4353     & 6.865276e-01\\\\\n",
       "\tregionRURAL &  1           &  0.006097857 & 436          & 487.4292     & 9.377574e-01\\\\\n",
       "\tregionSUBURBAN &  1           &  8.711619121 & 435          & 478.7176     & 3.161883e-03\\\\\n",
       "\tregionTOWN &  0           &  0.000000000 & 435          & 478.7176     &           NA\\\\\n",
       "\\end{tabular}\n"
      ],
      "text/markdown": [
       "\n",
       "| <!--/--> | Df | Deviance | Resid. Df | Resid. Dev | Pr(>Chi) | \n",
       "|---|---|---|---|---|---|---|---|---|---|---|---|---|---|\n",
       "| NULL | NA           |           NA | 449          | 622.7565     |           NA | \n",
       "| age |  1           | 10.336896777 | 448          | 612.4196     | 1.303971e-03 | \n",
       "| sex |  1           |  4.890717460 | 447          | 607.5289     | 2.700146e-02 | \n",
       "| income |  1           |  5.905260851 | 446          | 601.6236     | 1.509573e-02 | \n",
       "| married |  1           | 12.770339935 | 445          | 588.8533     | 3.521588e-04 | \n",
       "| children |  3           | 85.049562485 | 442          | 503.8037     | 2.532314e-18 | \n",
       "| car |  1           |  0.184425639 | 441          | 503.6193     | 6.675972e-01 | \n",
       "| save_act |  1           | 14.689721038 | 440          | 488.9296     | 1.267356e-04 | \n",
       "| current_act |  1           |  0.389215183 | 439          | 488.5403     | 5.327122e-01 | \n",
       "| mortgage |  1           |  0.942163773 | 438          | 487.5982     | 3.317220e-01 | \n",
       "| regionINNER_CITY |  1           |  0.162870229 | 437          | 487.4353     | 6.865276e-01 | \n",
       "| regionRURAL |  1           |  0.006097857 | 436          | 487.4292     | 9.377574e-01 | \n",
       "| regionSUBURBAN |  1           |  8.711619121 | 435          | 478.7176     | 3.161883e-03 | \n",
       "| regionTOWN |  0           |  0.000000000 | 435          | 478.7176     |           NA | \n",
       "\n",
       "\n"
      ],
      "text/plain": [
       "                 Df Deviance     Resid. Df Resid. Dev Pr(>Chi)    \n",
       "NULL             NA           NA 449       622.7565             NA\n",
       "age               1 10.336896777 448       612.4196   1.303971e-03\n",
       "sex               1  4.890717460 447       607.5289   2.700146e-02\n",
       "income            1  5.905260851 446       601.6236   1.509573e-02\n",
       "married           1 12.770339935 445       588.8533   3.521588e-04\n",
       "children          3 85.049562485 442       503.8037   2.532314e-18\n",
       "car               1  0.184425639 441       503.6193   6.675972e-01\n",
       "save_act          1 14.689721038 440       488.9296   1.267356e-04\n",
       "current_act       1  0.389215183 439       488.5403   5.327122e-01\n",
       "mortgage          1  0.942163773 438       487.5982   3.317220e-01\n",
       "regionINNER_CITY  1  0.162870229 437       487.4353   6.865276e-01\n",
       "regionRURAL       1  0.006097857 436       487.4292   9.377574e-01\n",
       "regionSUBURBAN    1  8.711619121 435       478.7176   3.161883e-03\n",
       "regionTOWN        0  0.000000000 435       478.7176             NA"
      ]
     },
     "metadata": {},
     "output_type": "display_data"
    }
   ],
   "source": [
    "anova(mylogit,test=\"Chisq\")"
   ]
  },
  {
   "cell_type": "code",
   "execution_count": 28,
   "metadata": {
    "scrolled": false
   },
   "outputs": [
    {
     "name": "stdout",
     "output_type": "stream",
     "text": [
      "Start:  AIC=508.72\n",
      "bank.data.train$pl ~ age + sex + income + married + children + \n",
      "    car + save_act + current_act + mortgage + regionINNER_CITY + \n",
      "    regionRURAL + regionSUBURBAN + regionTOWN\n",
      "\n",
      "\n",
      "Step:  AIC=508.72\n",
      "bank.data.train$pl ~ age + sex + income + married + children + \n",
      "    car + save_act + current_act + mortgage + regionINNER_CITY + \n",
      "    regionRURAL + regionSUBURBAN\n",
      "\n",
      "                   Df Deviance    AIC\n",
      "- car               1   478.72 506.72\n",
      "- age               1   478.72 506.72\n",
      "- regionRURAL       1   479.48 507.48\n",
      "- regionINNER_CITY  1   479.51 507.51\n",
      "- current_act       1   479.54 507.54\n",
      "- mortgage          1   479.76 507.76\n",
      "<none>                  478.72 508.72\n",
      "- sex               1   481.69 509.69\n",
      "- regionSUBURBAN    1   487.43 515.43\n",
      "- income            1   493.46 521.46\n",
      "- married           1   494.25 522.25\n",
      "- save_act          1   494.33 522.33\n",
      "- children          3   574.15 598.15\n",
      "\n",
      "Step:  AIC=506.72\n",
      "bank.data.train$pl ~ age + sex + income + married + children + \n",
      "    save_act + current_act + mortgage + regionINNER_CITY + regionRURAL + \n",
      "    regionSUBURBAN\n",
      "\n",
      "                   Df Deviance    AIC\n",
      "- age               1   478.72 504.72\n",
      "- regionRURAL       1   479.48 505.48\n",
      "- regionINNER_CITY  1   479.51 505.51\n",
      "- current_act       1   479.54 505.54\n",
      "- mortgage          1   479.76 505.76\n",
      "<none>                  478.72 506.72\n",
      "- sex               1   481.69 507.69\n",
      "- regionSUBURBAN    1   487.47 513.47\n",
      "- income            1   493.46 519.46\n",
      "- married           1   494.25 520.25\n",
      "- save_act          1   494.38 520.38\n",
      "- children          3   574.16 596.16\n",
      "\n",
      "Step:  AIC=504.72\n",
      "bank.data.train$pl ~ sex + income + married + children + save_act + \n",
      "    current_act + mortgage + regionINNER_CITY + regionRURAL + \n",
      "    regionSUBURBAN\n",
      "\n",
      "                   Df Deviance    AIC\n",
      "- regionRURAL       1   479.50 503.50\n",
      "- regionINNER_CITY  1   479.52 503.52\n",
      "- current_act       1   479.54 503.54\n",
      "- mortgage          1   479.77 503.77\n",
      "<none>                  478.72 504.72\n",
      "- sex               1   481.82 505.82\n",
      "- regionSUBURBAN    1   487.49 511.49\n",
      "- save_act          1   494.39 518.39\n",
      "- married           1   494.46 518.46\n",
      "- income            1   511.13 535.13\n",
      "- children          3   574.40 594.40\n",
      "\n",
      "Step:  AIC=503.5\n",
      "bank.data.train$pl ~ sex + income + married + children + save_act + \n",
      "    current_act + mortgage + regionINNER_CITY + regionSUBURBAN\n",
      "\n",
      "                   Df Deviance    AIC\n",
      "- regionINNER_CITY  1   479.77 501.77\n",
      "- current_act       1   480.37 502.37\n",
      "- mortgage          1   480.65 502.65\n",
      "<none>                  479.50 503.50\n",
      "- sex               1   482.81 504.81\n",
      "- regionSUBURBAN    1   487.50 509.50\n",
      "- married           1   495.27 517.27\n",
      "- save_act          1   495.30 517.30\n",
      "- income            1   512.15 534.15\n",
      "- children          3   574.40 592.40\n",
      "\n",
      "Step:  AIC=501.77\n",
      "bank.data.train$pl ~ sex + income + married + children + save_act + \n",
      "    current_act + mortgage + regionSUBURBAN\n",
      "\n",
      "                 Df Deviance    AIC\n",
      "- current_act     1   480.63 500.63\n",
      "- mortgage        1   480.92 500.92\n",
      "<none>                479.77 501.77\n",
      "- sex             1   483.17 503.17\n",
      "- regionSUBURBAN  1   487.66 507.66\n",
      "- married         1   495.47 515.47\n",
      "- save_act        1   496.30 516.30\n",
      "- income          1   512.52 532.52\n",
      "- children        3   575.26 591.26\n",
      "\n",
      "Step:  AIC=500.63\n",
      "bank.data.train$pl ~ sex + income + married + children + save_act + \n",
      "    mortgage + regionSUBURBAN\n",
      "\n",
      "                 Df Deviance    AIC\n",
      "- mortgage        1   481.65 499.65\n",
      "<none>                480.63 500.63\n",
      "- sex             1   484.15 502.15\n",
      "- regionSUBURBAN  1   488.14 506.14\n",
      "- married         1   495.84 513.84\n",
      "- save_act        1   497.14 515.14\n",
      "- income          1   513.01 531.01\n",
      "- children        3   575.63 589.63\n",
      "\n",
      "Step:  AIC=499.65\n",
      "bank.data.train$pl ~ sex + income + married + children + save_act + \n",
      "    regionSUBURBAN\n",
      "\n",
      "                 Df Deviance    AIC\n",
      "<none>                481.65 499.65\n",
      "- sex             1   484.88 500.88\n",
      "- regionSUBURBAN  1   489.01 505.01\n",
      "- married         1   496.63 512.63\n",
      "- save_act        1   497.63 513.63\n",
      "- income          1   513.41 529.41\n",
      "- children        3   576.09 588.09\n"
     ]
    },
    {
     "data": {
      "text/plain": [
       "\n",
       "Call:\n",
       "glm(formula = bank.data.train$pl ~ sex + income + married + children + \n",
       "    save_act + regionSUBURBAN, family = \"binomial\", data = bank.data.train)\n",
       "\n",
       "Deviance Residuals: \n",
       "    Min       1Q   Median       3Q      Max  \n",
       "-2.5835  -0.8898  -0.3720   0.8842   2.1545  \n",
       "\n",
       "Coefficients:\n",
       "                  Estimate Std. Error z value Pr(>|z|)    \n",
       "(Intercept)     -8.759e-01  3.564e-01  -2.458 0.013989 *  \n",
       "sex1             4.005e-01  2.237e-01   1.791 0.073366 .  \n",
       "income           5.053e-05  9.442e-06   5.351 8.73e-08 ***\n",
       "married1        -9.139e-01  2.402e-01  -3.804 0.000142 ***\n",
       "children1        2.313e+00  3.295e-01   7.018 2.25e-12 ***\n",
       "children2        6.425e-02  2.701e-01   0.238 0.811974    \n",
       "children3       -1.435e+00  4.433e-01  -3.237 0.001208 ** \n",
       "save_act1       -1.009e+00  2.579e-01  -3.913 9.11e-05 ***\n",
       "regionSUBURBAN1  9.934e-01  3.717e-01   2.672 0.007533 ** \n",
       "---\n",
       "Signif. codes:  0 ‘***’ 0.001 ‘**’ 0.01 ‘*’ 0.05 ‘.’ 0.1 ‘ ’ 1\n",
       "\n",
       "(Dispersion parameter for binomial family taken to be 1)\n",
       "\n",
       "    Null deviance: 622.76  on 449  degrees of freedom\n",
       "Residual deviance: 481.65  on 441  degrees of freedom\n",
       "AIC: 499.65\n",
       "\n",
       "Number of Fisher Scoring iterations: 4\n"
      ]
     },
     "metadata": {},
     "output_type": "display_data"
    }
   ],
   "source": [
    "backwards_mylogit=step(mylogit,direction = \"backward\")\n",
    "summary(backwards_mylogit)"
   ]
  },
  {
   "cell_type": "code",
   "execution_count": 29,
   "metadata": {},
   "outputs": [
    {
     "data": {
      "text/html": [
       "<table>\n",
       "<thead><tr><th></th><th scope=col>Df</th><th scope=col>Deviance</th><th scope=col>Resid. Df</th><th scope=col>Resid. Dev</th><th scope=col>Pr(&gt;Chi)</th></tr></thead>\n",
       "<tbody>\n",
       "\t<tr><th scope=row>NULL</th><td>NA          </td><td>       NA   </td><td>449         </td><td>622.7565    </td><td>          NA</td></tr>\n",
       "\t<tr><th scope=row>sex</th><td> 1          </td><td> 3.203870   </td><td>448         </td><td>619.5526    </td><td>7.346424e-02</td></tr>\n",
       "\t<tr><th scope=row>income</th><td> 1          </td><td>17.736734   </td><td>447         </td><td>601.8159    </td><td>2.536803e-05</td></tr>\n",
       "\t<tr><th scope=row>married</th><td> 1          </td><td>12.438733   </td><td>446         </td><td>589.3771    </td><td>4.205209e-04</td></tr>\n",
       "\t<tr><th scope=row>children</th><td> 3          </td><td>85.460257   </td><td>443         </td><td>503.9169    </td><td>2.067086e-18</td></tr>\n",
       "\t<tr><th scope=row>save_act</th><td> 1          </td><td>14.909542   </td><td>442         </td><td>489.0073    </td><td>1.127910e-04</td></tr>\n",
       "\t<tr><th scope=row>regionSUBURBAN</th><td> 1          </td><td> 7.355326   </td><td>441         </td><td>481.6520    </td><td>6.686438e-03</td></tr>\n",
       "</tbody>\n",
       "</table>\n"
      ],
      "text/latex": [
       "\\begin{tabular}{r|lllll}\n",
       "  & Df & Deviance & Resid. Df & Resid. Dev & Pr(>Chi)\\\\\n",
       "\\hline\n",
       "\tNULL & NA           &        NA    & 449          & 622.7565     &           NA\\\\\n",
       "\tsex &  1           &  3.203870    & 448          & 619.5526     & 7.346424e-02\\\\\n",
       "\tincome &  1           & 17.736734    & 447          & 601.8159     & 2.536803e-05\\\\\n",
       "\tmarried &  1           & 12.438733    & 446          & 589.3771     & 4.205209e-04\\\\\n",
       "\tchildren &  3           & 85.460257    & 443          & 503.9169     & 2.067086e-18\\\\\n",
       "\tsave\\_act &  1           & 14.909542    & 442          & 489.0073     & 1.127910e-04\\\\\n",
       "\tregionSUBURBAN &  1           &  7.355326    & 441          & 481.6520     & 6.686438e-03\\\\\n",
       "\\end{tabular}\n"
      ],
      "text/markdown": [
       "\n",
       "| <!--/--> | Df | Deviance | Resid. Df | Resid. Dev | Pr(>Chi) | \n",
       "|---|---|---|---|---|---|---|\n",
       "| NULL | NA           |        NA    | 449          | 622.7565     |           NA | \n",
       "| sex |  1           |  3.203870    | 448          | 619.5526     | 7.346424e-02 | \n",
       "| income |  1           | 17.736734    | 447          | 601.8159     | 2.536803e-05 | \n",
       "| married |  1           | 12.438733    | 446          | 589.3771     | 4.205209e-04 | \n",
       "| children |  3           | 85.460257    | 443          | 503.9169     | 2.067086e-18 | \n",
       "| save_act |  1           | 14.909542    | 442          | 489.0073     | 1.127910e-04 | \n",
       "| regionSUBURBAN |  1           |  7.355326    | 441          | 481.6520     | 6.686438e-03 | \n",
       "\n",
       "\n"
      ],
      "text/plain": [
       "               Df Deviance  Resid. Df Resid. Dev Pr(>Chi)    \n",
       "NULL           NA        NA 449       622.7565             NA\n",
       "sex             1  3.203870 448       619.5526   7.346424e-02\n",
       "income          1 17.736734 447       601.8159   2.536803e-05\n",
       "married         1 12.438733 446       589.3771   4.205209e-04\n",
       "children        3 85.460257 443       503.9169   2.067086e-18\n",
       "save_act        1 14.909542 442       489.0073   1.127910e-04\n",
       "regionSUBURBAN  1  7.355326 441       481.6520   6.686438e-03"
      ]
     },
     "metadata": {},
     "output_type": "display_data"
    }
   ],
   "source": [
    "anova(backwards_mylogit,test=\"Chisq\")"
   ]
  },
  {
   "cell_type": "code",
   "execution_count": 30,
   "metadata": {},
   "outputs": [
    {
     "name": "stdout",
     "output_type": "stream",
     "text": [
      "Start:  AIC=508.72\n",
      "bank.data.train$pl ~ age + sex + income + married + children + \n",
      "    car + save_act + current_act + mortgage + regionINNER_CITY + \n",
      "    regionRURAL + regionSUBURBAN + regionTOWN\n",
      "\n"
     ]
    },
    {
     "data": {
      "text/plain": [
       "\n",
       "Call:\n",
       "glm(formula = bank.data.train$pl ~ age + sex + income + married + \n",
       "    children + car + save_act + current_act + mortgage + regionINNER_CITY + \n",
       "    regionRURAL + regionSUBURBAN + regionTOWN, family = \"binomial\", \n",
       "    data = bank.data.train)\n",
       "\n",
       "Deviance Residuals: \n",
       "    Min       1Q   Median       3Q      Max  \n",
       "-2.5517  -0.8695  -0.3748   0.8877   2.2451  \n",
       "\n",
       "Coefficients: (1 not defined because of singularities)\n",
       "                    Estimate Std. Error z value Pr(>|z|)    \n",
       "(Intercept)       -7.658e-01  5.381e-01  -1.423 0.154641    \n",
       "age               -9.451e-04  1.217e-02  -0.078 0.938090    \n",
       "sex1               3.935e-01  2.290e-01   1.718 0.085785 .  \n",
       "income             5.208e-05  1.396e-05   3.731 0.000191 ***\n",
       "married1          -9.420e-01  2.436e-01  -3.867 0.000110 ***\n",
       "children1          2.351e+00  3.340e-01   7.039 1.93e-12 ***\n",
       "children2          4.270e-02  2.721e-01   0.157 0.875293    \n",
       "children3         -1.493e+00  4.535e-01  -3.292 0.000995 ***\n",
       "car1              -3.842e-03  2.253e-01  -0.017 0.986397    \n",
       "save_act1         -1.015e+00  2.626e-01  -3.866 0.000111 ***\n",
       "current_act1      -2.445e-01  2.689e-01  -0.909 0.363119    \n",
       "mortgage1         -2.433e-01  2.389e-01  -1.018 0.308570    \n",
       "regionINNER_CITY1  2.459e-01  2.769e-01   0.888 0.374436    \n",
       "regionRURAL1       3.138e-01  3.593e-01   0.873 0.382553    \n",
       "regionSUBURBAN1    1.222e+00  4.206e-01   2.906 0.003656 ** \n",
       "regionTOWN1               NA         NA      NA       NA    \n",
       "---\n",
       "Signif. codes:  0 ‘***’ 0.001 ‘**’ 0.01 ‘*’ 0.05 ‘.’ 0.1 ‘ ’ 1\n",
       "\n",
       "(Dispersion parameter for binomial family taken to be 1)\n",
       "\n",
       "    Null deviance: 622.76  on 449  degrees of freedom\n",
       "Residual deviance: 478.72  on 435  degrees of freedom\n",
       "AIC: 508.72\n",
       "\n",
       "Number of Fisher Scoring iterations: 4\n"
      ]
     },
     "metadata": {},
     "output_type": "display_data"
    }
   ],
   "source": [
    "forwards_mylogit=step(mylogit,direction = \"forward\")\n",
    "summary(forwards_mylogit)"
   ]
  },
  {
   "cell_type": "code",
   "execution_count": 31,
   "metadata": {},
   "outputs": [
    {
     "data": {
      "text/html": [
       "<table>\n",
       "<thead><tr><th></th><th scope=col>Df</th><th scope=col>Deviance</th><th scope=col>Resid. Df</th><th scope=col>Resid. Dev</th><th scope=col>Pr(&gt;Chi)</th></tr></thead>\n",
       "<tbody>\n",
       "\t<tr><th scope=row>NULL</th><td>NA          </td><td>          NA</td><td>449         </td><td>622.7565    </td><td>          NA</td></tr>\n",
       "\t<tr><th scope=row>age</th><td> 1          </td><td>10.336896777</td><td>448         </td><td>612.4196    </td><td>1.303971e-03</td></tr>\n",
       "\t<tr><th scope=row>sex</th><td> 1          </td><td> 4.890717460</td><td>447         </td><td>607.5289    </td><td>2.700146e-02</td></tr>\n",
       "\t<tr><th scope=row>income</th><td> 1          </td><td> 5.905260851</td><td>446         </td><td>601.6236    </td><td>1.509573e-02</td></tr>\n",
       "\t<tr><th scope=row>married</th><td> 1          </td><td>12.770339935</td><td>445         </td><td>588.8533    </td><td>3.521588e-04</td></tr>\n",
       "\t<tr><th scope=row>children</th><td> 3          </td><td>85.049562485</td><td>442         </td><td>503.8037    </td><td>2.532314e-18</td></tr>\n",
       "\t<tr><th scope=row>car</th><td> 1          </td><td> 0.184425639</td><td>441         </td><td>503.6193    </td><td>6.675972e-01</td></tr>\n",
       "\t<tr><th scope=row>save_act</th><td> 1          </td><td>14.689721038</td><td>440         </td><td>488.9296    </td><td>1.267356e-04</td></tr>\n",
       "\t<tr><th scope=row>current_act</th><td> 1          </td><td> 0.389215183</td><td>439         </td><td>488.5403    </td><td>5.327122e-01</td></tr>\n",
       "\t<tr><th scope=row>mortgage</th><td> 1          </td><td> 0.942163773</td><td>438         </td><td>487.5982    </td><td>3.317220e-01</td></tr>\n",
       "\t<tr><th scope=row>regionINNER_CITY</th><td> 1          </td><td> 0.162870229</td><td>437         </td><td>487.4353    </td><td>6.865276e-01</td></tr>\n",
       "\t<tr><th scope=row>regionRURAL</th><td> 1          </td><td> 0.006097857</td><td>436         </td><td>487.4292    </td><td>9.377574e-01</td></tr>\n",
       "\t<tr><th scope=row>regionSUBURBAN</th><td> 1          </td><td> 8.711619121</td><td>435         </td><td>478.7176    </td><td>3.161883e-03</td></tr>\n",
       "\t<tr><th scope=row>regionTOWN</th><td> 0          </td><td> 0.000000000</td><td>435         </td><td>478.7176    </td><td>          NA</td></tr>\n",
       "</tbody>\n",
       "</table>\n"
      ],
      "text/latex": [
       "\\begin{tabular}{r|lllll}\n",
       "  & Df & Deviance & Resid. Df & Resid. Dev & Pr(>Chi)\\\\\n",
       "\\hline\n",
       "\tNULL & NA           &           NA & 449          & 622.7565     &           NA\\\\\n",
       "\tage &  1           & 10.336896777 & 448          & 612.4196     & 1.303971e-03\\\\\n",
       "\tsex &  1           &  4.890717460 & 447          & 607.5289     & 2.700146e-02\\\\\n",
       "\tincome &  1           &  5.905260851 & 446          & 601.6236     & 1.509573e-02\\\\\n",
       "\tmarried &  1           & 12.770339935 & 445          & 588.8533     & 3.521588e-04\\\\\n",
       "\tchildren &  3           & 85.049562485 & 442          & 503.8037     & 2.532314e-18\\\\\n",
       "\tcar &  1           &  0.184425639 & 441          & 503.6193     & 6.675972e-01\\\\\n",
       "\tsave\\_act &  1           & 14.689721038 & 440          & 488.9296     & 1.267356e-04\\\\\n",
       "\tcurrent\\_act &  1           &  0.389215183 & 439          & 488.5403     & 5.327122e-01\\\\\n",
       "\tmortgage &  1           &  0.942163773 & 438          & 487.5982     & 3.317220e-01\\\\\n",
       "\tregionINNER\\_CITY &  1           &  0.162870229 & 437          & 487.4353     & 6.865276e-01\\\\\n",
       "\tregionRURAL &  1           &  0.006097857 & 436          & 487.4292     & 9.377574e-01\\\\\n",
       "\tregionSUBURBAN &  1           &  8.711619121 & 435          & 478.7176     & 3.161883e-03\\\\\n",
       "\tregionTOWN &  0           &  0.000000000 & 435          & 478.7176     &           NA\\\\\n",
       "\\end{tabular}\n"
      ],
      "text/markdown": [
       "\n",
       "| <!--/--> | Df | Deviance | Resid. Df | Resid. Dev | Pr(>Chi) | \n",
       "|---|---|---|---|---|---|---|---|---|---|---|---|---|---|\n",
       "| NULL | NA           |           NA | 449          | 622.7565     |           NA | \n",
       "| age |  1           | 10.336896777 | 448          | 612.4196     | 1.303971e-03 | \n",
       "| sex |  1           |  4.890717460 | 447          | 607.5289     | 2.700146e-02 | \n",
       "| income |  1           |  5.905260851 | 446          | 601.6236     | 1.509573e-02 | \n",
       "| married |  1           | 12.770339935 | 445          | 588.8533     | 3.521588e-04 | \n",
       "| children |  3           | 85.049562485 | 442          | 503.8037     | 2.532314e-18 | \n",
       "| car |  1           |  0.184425639 | 441          | 503.6193     | 6.675972e-01 | \n",
       "| save_act |  1           | 14.689721038 | 440          | 488.9296     | 1.267356e-04 | \n",
       "| current_act |  1           |  0.389215183 | 439          | 488.5403     | 5.327122e-01 | \n",
       "| mortgage |  1           |  0.942163773 | 438          | 487.5982     | 3.317220e-01 | \n",
       "| regionINNER_CITY |  1           |  0.162870229 | 437          | 487.4353     | 6.865276e-01 | \n",
       "| regionRURAL |  1           |  0.006097857 | 436          | 487.4292     | 9.377574e-01 | \n",
       "| regionSUBURBAN |  1           |  8.711619121 | 435          | 478.7176     | 3.161883e-03 | \n",
       "| regionTOWN |  0           |  0.000000000 | 435          | 478.7176     |           NA | \n",
       "\n",
       "\n"
      ],
      "text/plain": [
       "                 Df Deviance     Resid. Df Resid. Dev Pr(>Chi)    \n",
       "NULL             NA           NA 449       622.7565             NA\n",
       "age               1 10.336896777 448       612.4196   1.303971e-03\n",
       "sex               1  4.890717460 447       607.5289   2.700146e-02\n",
       "income            1  5.905260851 446       601.6236   1.509573e-02\n",
       "married           1 12.770339935 445       588.8533   3.521588e-04\n",
       "children          3 85.049562485 442       503.8037   2.532314e-18\n",
       "car               1  0.184425639 441       503.6193   6.675972e-01\n",
       "save_act          1 14.689721038 440       488.9296   1.267356e-04\n",
       "current_act       1  0.389215183 439       488.5403   5.327122e-01\n",
       "mortgage          1  0.942163773 438       487.5982   3.317220e-01\n",
       "regionINNER_CITY  1  0.162870229 437       487.4353   6.865276e-01\n",
       "regionRURAL       1  0.006097857 436       487.4292   9.377574e-01\n",
       "regionSUBURBAN    1  8.711619121 435       478.7176   3.161883e-03\n",
       "regionTOWN        0  0.000000000 435       478.7176             NA"
      ]
     },
     "metadata": {},
     "output_type": "display_data"
    }
   ],
   "source": [
    "anova(forwards_mylogit,test=\"Chisq\")"
   ]
  },
  {
   "cell_type": "code",
   "execution_count": 32,
   "metadata": {},
   "outputs": [
    {
     "name": "stderr",
     "output_type": "stream",
     "text": [
      "Warning message in predict.lm(object, newdata, se.fit, scale = 1, type = ifelse(type == :\n",
      "“prediction from a rank-deficient fit may be misleading”Warning message in predict.lm(object, newdata, se.fit, scale = 1, type = ifelse(type == :\n",
      "“prediction from a rank-deficient fit may be misleading”"
     ]
    }
   ],
   "source": [
    "bank.data.test$pl1<- predict(mylogit, bank.data.test, type=\"response\")\n",
    "bank.data.test$pl2<- predict(backwards_mylogit, bank.data.test, type=\"response\") \n",
    "bank.data.test$pl3<- predict(forwards_mylogit, bank.data.test, type=\"response\") "
   ]
  },
  {
   "cell_type": "code",
   "execution_count": 33,
   "metadata": {},
   "outputs": [
    {
     "data": {
      "text/html": [
       "0.801296296296296"
      ],
      "text/latex": [
       "0.801296296296296"
      ],
      "text/markdown": [
       "0.801296296296296"
      ],
      "text/plain": [
       "Area under the curve: 0.8013"
      ]
     },
     "metadata": {},
     "output_type": "display_data"
    }
   ],
   "source": [
    "auc(bank.data.test$pl, bank.data.test$pl1)"
   ]
  },
  {
   "cell_type": "code",
   "execution_count": 34,
   "metadata": {},
   "outputs": [
    {
     "data": {
      "text/html": [
       "0.808148148148148"
      ],
      "text/latex": [
       "0.808148148148148"
      ],
      "text/markdown": [
       "0.808148148148148"
      ],
      "text/plain": [
       "Area under the curve: 0.8081"
      ]
     },
     "metadata": {},
     "output_type": "display_data"
    }
   ],
   "source": [
    "auc(bank.data.test$pl, bank.data.test$pl2) "
   ]
  },
  {
   "cell_type": "code",
   "execution_count": 35,
   "metadata": {},
   "outputs": [
    {
     "data": {
      "text/html": [
       "0.801296296296296"
      ],
      "text/latex": [
       "0.801296296296296"
      ],
      "text/markdown": [
       "0.801296296296296"
      ],
      "text/plain": [
       "Area under the curve: 0.8013"
      ]
     },
     "metadata": {},
     "output_type": "display_data"
    }
   ],
   "source": [
    "auc(bank.data.test$pl, bank.data.test$pl3)"
   ]
  }
 ],
 "metadata": {
  "kernelspec": {
   "display_name": "R",
   "language": "R",
   "name": "ir"
  },
  "language_info": {
   "codemirror_mode": "r",
   "file_extension": ".r",
   "mimetype": "text/x-r-source",
   "name": "R",
   "pygments_lexer": "r",
   "version": "3.4.0"
  }
 },
 "nbformat": 4,
 "nbformat_minor": 2
}
