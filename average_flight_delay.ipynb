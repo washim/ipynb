{
 "cells": [
  {
   "cell_type": "code",
   "execution_count": null,
   "metadata": {},
   "outputs": [],
   "source": [
    "import $exclude.`org.slf4j:slf4j-log4j12`, $ivy.`org.slf4j:slf4j-nop:1.7.21`\n",
    "import $profile.`hadoop-2.7`\n",
    "import $ivy.`org.apache.spark::spark-sql:2.1.0`\n",
    "import $ivy.`org.apache.hadoop:hadoop-aws:2.6.4`\n",
    "import $ivy.`org.jupyter-scala::spark:0.4.2`\n",
    "import org.apache.spark._\n",
    "import org.apache.spark.sql._\n",
    "import jupyter.spark.session._\n",
    "val sc = new SparkContext(new SparkConf().setAppName(\"averageflightdelay\").setMaster(\"local\"))"
   ]
  },
  {
   "cell_type": "code",
   "execution_count": 2,
   "metadata": {},
   "outputs": [
    {
     "data": {
      "text/plain": [
       "\u001b[36mflight_data\u001b[39m: \u001b[32mrdd\u001b[39m.\u001b[32mRDD\u001b[39m[\u001b[32mString\u001b[39m] = 2007.csv MapPartitionsRDD[1] at textFile at cmd1.sc:1"
      ]
     },
     "execution_count": 2,
     "metadata": {},
     "output_type": "execute_result"
    }
   ],
   "source": [
    "val flight_data = sc.textFile(\"2007.csv\", 2)"
   ]
  },
  {
   "cell_type": "code",
   "execution_count": 3,
   "metadata": {},
   "outputs": [
    {
     "name": "stdout",
     "output_type": "stream",
     "text": [
      "Year,Month,DayofMonth,DayOfWeek,DepTime,CRSDepTime,ArrTime,CRSArrTime,UniqueCarrier,FlightNum,TailNum,ActualElapsedTime,CRSElapsedTime,AirTime,ArrDelay,DepDelay,Origin,Dest,Distance,TaxiIn,TaxiOut,Cancelled,CancellationCode,Diverted,CarrierDelay,WeatherDelay,NASDelay,SecurityDelay,LateAircraftDelay\n",
      "2007,1,1,1,1232,1225,1341,1340,WN,2891,N351,69,75,54,1,7,SMF,ONT,389,4,11,0,,0,0,0,0,0,0\n",
      "2007,1,1,1,1918,1905,2043,2035,WN,462,N370,85,90,74,8,13,SMF,PDX,479,5,6,0,,0,0,0,0,0,0\n",
      "2007,1,1,1,2206,2130,2334,2300,WN,1229,N685,88,90,73,34,36,SMF,PDX,479,6,9,0,,0,3,0,0,0,31\n"
     ]
    }
   ],
   "source": [
    "flight_data.take(4).foreach(println)"
   ]
  },
  {
   "cell_type": "code",
   "execution_count": 4,
   "metadata": {},
   "outputs": [
    {
     "data": {
      "text/plain": [
       "\u001b[36mflight_data_filtered\u001b[39m: \u001b[32mrdd\u001b[39m.\u001b[32mRDD\u001b[39m[\u001b[32mArray\u001b[39m[\u001b[32mString\u001b[39m]] = MapPartitionsRDD[3] at map at cmd3.sc:1"
      ]
     },
     "execution_count": 4,
     "metadata": {},
     "output_type": "execute_result"
    }
   ],
   "source": [
    "val flight_data_filtered = flight_data.filter(line => !line.contains(\"Year\")).map(line => line.split(\",\").map(elem => elem.trim))"
   ]
  },
  {
   "cell_type": "code",
   "execution_count": 5,
   "metadata": {},
   "outputs": [
    {
     "name": "stdout",
     "output_type": "stream",
     "text": [
      "Array(Array(2007, 1, 1, 1, 1232, 1225, 1341, 1340, WN, 2891, N351, 69, 75, 54, 1, 7, SMF, ONT, 389, 4, 11, 0, , 0, 0, 0, 0, 0, 0), Array(2007, 1, 1, 1, 1918, 1905, 2043, 2035, WN, 462, N370, 85, 90, 74, 8, 13, SMF, PDX, 479, 5, 6, 0, , 0, 0, 0, 0, 0, 0), Array(2007, 1, 1, 1, 2206, 2130, 2334, 2300, WN, 1229, N685, 88, 90, 73, 34, 36, SMF, PDX, 479, 6, 9, 0, , 0, 3, 0, 0, 0, 31), Array(2007, 1, 1, 1, 1230, 1200, 1356, 1330, WN, 1355, N364, 86, 90, 75, 26, 30, SMF, PDX, 479, 3, 8, 0, , 0, 23, 0, 0, 0, 3))\n"
     ]
    }
   ],
   "source": [
    "println(flight_data_filtered.take(4).deep)"
   ]
  },
  {
   "cell_type": "code",
   "execution_count": 6,
   "metadata": {},
   "outputs": [
    {
     "data": {
      "text/plain": [
       "\u001b[32mimport \u001b[39m\u001b[36mscala.util.Try\u001b[39m"
      ]
     },
     "execution_count": 6,
     "metadata": {},
     "output_type": "execute_result"
    }
   ],
   "source": [
    "import scala.util.Try"
   ]
  },
  {
   "cell_type": "code",
   "execution_count": 7,
   "metadata": {},
   "outputs": [
    {
     "data": {
      "text/plain": [
       "\u001b[36marrivalTuple\u001b[39m: \u001b[32mrdd\u001b[39m.\u001b[32mRDD\u001b[39m[(\u001b[32mInt\u001b[39m, \u001b[32mDouble\u001b[39m)] = MapPartitionsRDD[5] at map at cmd6.sc:1"
      ]
     },
     "execution_count": 7,
     "metadata": {},
     "output_type": "execute_result"
    }
   ],
   "source": [
    "var arrivalTuple = flight_data_filtered.filter(rec=>Try(rec(14).toDouble).isSuccess).map(rec=>(rec(3).toInt,rec(14).toDouble))"
   ]
  },
  {
   "cell_type": "code",
   "execution_count": 8,
   "metadata": {},
   "outputs": [
    {
     "name": "stdout",
     "output_type": "stream",
     "text": [
      "(1,1.0)\n",
      "(1,8.0)\n",
      "(1,34.0)\n",
      "(1,26.0)\n"
     ]
    }
   ],
   "source": [
    "arrivalTuple.take(4).foreach(println)"
   ]
  },
  {
   "cell_type": "code",
   "execution_count": 9,
   "metadata": {},
   "outputs": [
    {
     "name": "stderr",
     "output_type": "stream",
     "text": [
      "                                                                                \r"
     ]
    },
    {
     "data": {
      "text/plain": [
       "\u001b[36marrivalDelayByWeekDay\u001b[39m: \u001b[32mArray\u001b[39m[(\u001b[32mInt\u001b[39m, \u001b[32mDouble\u001b[39m)] = \u001b[33mArray\u001b[39m(\n",
       "  (\u001b[32m4\u001b[39m, \u001b[32m3.848097317529632\u001b[39m),\n",
       "  (\u001b[32m6\u001b[39m, \u001b[32m-1.8044743543106585\u001b[39m),\n",
       "  (\u001b[32m2\u001b[39m, \u001b[32m0.1321186881832379\u001b[39m),\n",
       "  (\u001b[32m1\u001b[39m, \u001b[32m4.845759130697253\u001b[39m),\n",
       "  (\u001b[32m3\u001b[39m, \u001b[32m1.3002536461636018\u001b[39m),\n",
       "  (\u001b[32m7\u001b[39m, \u001b[32m3.357736516357206\u001b[39m),\n",
       "  (\u001b[32m5\u001b[39m, \u001b[32m7.87126000842815\u001b[39m)\n",
       ")"
      ]
     },
     "execution_count": 9,
     "metadata": {},
     "output_type": "execute_result"
    }
   ],
   "source": [
    "val arrivalDelayByWeekDay = arrivalTuple.mapValues(value => (value,1)).reduceByKey((accumulated,current)=>(accumulated._1 + current._1,accumulated._2 + current._2)).mapValues(value => 1.0 * value._1 /value._2).collect"
   ]
  },
  {
   "cell_type": "markdown",
   "metadata": {},
   "source": [
    "### Average Arrival Delay Per Day of Week (in minute)"
   ]
  },
  {
   "cell_type": "code",
   "execution_count": 14,
   "metadata": {},
   "outputs": [
    {
     "name": "stdout",
     "output_type": "stream",
     "text": [
      "(1,4.845759130697253)\n",
      "(2,0.1321186881832379)\n",
      "(3,1.3002536461636018)\n",
      "(4,3.848097317529632)\n",
      "(5,7.87126000842815)\n",
      "(6,-1.8044743543106585)\n",
      "(7,3.357736516357206)\n"
     ]
    }
   ],
   "source": [
    "arrivalDelayByWeekDay.sortBy(value => value).foreach(println)"
   ]
  },
  {
   "cell_type": "code",
   "execution_count": 10,
   "metadata": {},
   "outputs": [
    {
     "data": {
      "text/plain": [
       "\u001b[36mdelayTuple\u001b[39m: \u001b[32mrdd\u001b[39m.\u001b[32mRDD\u001b[39m[(\u001b[32mInt\u001b[39m, \u001b[32mDouble\u001b[39m)] = MapPartitionsRDD[10] at map at cmd9.sc:1"
      ]
     },
     "execution_count": 10,
     "metadata": {},
     "output_type": "execute_result"
    }
   ],
   "source": [
    "var delayTuple = flight_data_filtered.filter(rec=>Try(rec(14).toDouble).isSuccess).map(rec=>(rec(3).toInt,rec(15).toDouble))"
   ]
  },
  {
   "cell_type": "code",
   "execution_count": 11,
   "metadata": {},
   "outputs": [
    {
     "name": "stdout",
     "output_type": "stream",
     "text": [
      "(1,7.0)\n",
      "(1,13.0)\n",
      "(1,36.0)\n",
      "(1,30.0)\n"
     ]
    }
   ],
   "source": [
    "delayTuple.take(4).foreach(println)"
   ]
  },
  {
   "cell_type": "code",
   "execution_count": 12,
   "metadata": {},
   "outputs": [
    {
     "data": {
      "text/plain": [
       "\u001b[36mdepartueDelayByWeekDay\u001b[39m: \u001b[32mArray\u001b[39m[(\u001b[32mInt\u001b[39m, \u001b[32mDouble\u001b[39m)] = \u001b[33mArray\u001b[39m(\n",
       "  (\u001b[32m4\u001b[39m, \u001b[32m8.430338947806197\u001b[39m),\n",
       "  (\u001b[32m6\u001b[39m, \u001b[32m5.727537286285922\u001b[39m),\n",
       "  (\u001b[32m2\u001b[39m, \u001b[32m6.195627277459656\u001b[39m),\n",
       "  (\u001b[32m1\u001b[39m, \u001b[32m10.058406278297616\u001b[39m),\n",
       "  (\u001b[32m3\u001b[39m, \u001b[32m7.054745296977384\u001b[39m),\n",
       "  (\u001b[32m7\u001b[39m, \u001b[32m9.41945181255526\u001b[39m),\n",
       "  (\u001b[32m5\u001b[39m, \u001b[32m12.41361146228403\u001b[39m)\n",
       ")"
      ]
     },
     "execution_count": 12,
     "metadata": {},
     "output_type": "execute_result"
    }
   ],
   "source": [
    "val departueDelayByWeekDay = delayTuple.mapValues(value => (value,1)).reduceByKey((accumulated, current) => (accumulated._1 + current._1,accumulated._2 + current._2)).mapValues(value => 1.0 * value._1 /value._2).collect"
   ]
  },
  {
   "cell_type": "markdown",
   "metadata": {},
   "source": [
    "### Average Departure Delay Per Day of Week (in minute)"
   ]
  },
  {
   "cell_type": "code",
   "execution_count": 13,
   "metadata": {},
   "outputs": [
    {
     "name": "stdout",
     "output_type": "stream",
     "text": [
      "(1,10.058406278297616)\n",
      "(2,6.195627277459656)\n",
      "(3,7.054745296977384)\n",
      "(4,8.430338947806197)\n",
      "(5,12.41361146228403)\n",
      "(6,5.727537286285922)\n",
      "(7,9.41945181255526)\n"
     ]
    }
   ],
   "source": [
    "departueDelayByWeekDay.sortBy(value => value).foreach(println)"
   ]
  }
 ],
 "metadata": {
  "kernelspec": {
   "display_name": "Scala",
   "language": "scala",
   "name": "scala"
  },
  "language_info": {
   "codemirror_mode": "text/x-scala",
   "file_extension": ".scala",
   "mimetype": "text/x-scala",
   "name": "scala211",
   "nbconvert_exporter": "script",
   "pygments_lexer": "scala",
   "version": "2.11.11"
  }
 },
 "nbformat": 4,
 "nbformat_minor": 2
}
